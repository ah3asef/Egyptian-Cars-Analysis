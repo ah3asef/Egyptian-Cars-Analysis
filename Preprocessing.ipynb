{
 "cells": [
  {
   "cell_type": "code",
   "execution_count": null,
   "id": "dcee5a1e",
   "metadata": {},
   "outputs": [],
   "source": [
    "from Methods import*\n",
    "import pandas as pd"
   ]
  },
  {
   "cell_type": "code",
   "execution_count": null,
   "id": "ad294ea1",
   "metadata": {},
   "outputs": [],
   "source": [
    "data = pd.read_excel('G:/ahmed/Final Project ds tools/Egyptian-Cars-Analysis/DataSetScraping3.xlsx')\n",
    "df = data.copy()"
   ]
  },
  {
   "cell_type": "code",
   "execution_count": null,
   "id": "e28510d9",
   "metadata": {},
   "outputs": [],
   "source": [
    "df_1 = df.copy()\n",
    "Modify = Modify(df_1)"
   ]
  },
  {
   "cell_type": "code",
   "execution_count": null,
   "id": "de89c573",
   "metadata": {},
   "outputs": [],
   "source": [
    "df_int =Modify.Extract_int(['Price','Milage'])\n",
    "df_int[(df_int['Transmission'] != 'أتوماتيك\\u200e') & (df_int['Transmission'] != 'مانيوال') & (df_int['Transmission'] !='DSG')]"
   ]
  },
  {
   "cell_type": "code",
   "execution_count": null,
   "id": "f06b9a66",
   "metadata": {},
   "outputs": [],
   "source": [
    "df_2 = Modify.fill_na_mileage(df_int,'Year','Milage')"
   ]
  },
  {
   "cell_type": "code",
   "execution_count": null,
   "id": "40595af7",
   "metadata": {},
   "outputs": [],
   "source": [
    "df_2.loc[df_2['Milage'].isna()]"
   ]
  },
  {
   "cell_type": "code",
   "execution_count": null,
   "id": "5d6b48d9",
   "metadata": {},
   "outputs": [],
   "source": [
    "df_3 = Modify.fill_zero_mileage(df_2,'Year','Milage')"
   ]
  },
  {
   "cell_type": "code",
   "execution_count": null,
   "id": "5f189213",
   "metadata": {},
   "outputs": [],
   "source": [
    "df_3.loc[df_3['Milage']==0]"
   ]
  },
  {
   "cell_type": "code",
   "execution_count": null,
   "id": "33d1257e",
   "metadata": {},
   "outputs": [],
   "source": [
    "df_3['Price'] = df_3['Price'].astype('int64')"
   ]
  },
  {
   "cell_type": "code",
   "execution_count": null,
   "id": "e1f869a8",
   "metadata": {},
   "outputs": [],
   "source": [
    "df_3.info()"
   ]
  },
  {
   "cell_type": "code",
   "execution_count": null,
   "id": "00509993",
   "metadata": {},
   "outputs": [],
   "source": [
    "df_3[(df_3['Transmission'] != 'أتوماتيك\\u200e') & (df_3['Transmission'] != 'مانيوال') & (df_3['Transmission'] !='DSG')]"
   ]
  },
  {
   "cell_type": "code",
   "execution_count": null,
   "id": "5eb9f3be",
   "metadata": {},
   "outputs": [],
   "source": [
    "df_3 = df_3.drop(df_3[df_3['Milage']==0].index)"
   ]
  },
  {
   "cell_type": "code",
   "execution_count": null,
   "id": "9723ad3b",
   "metadata": {},
   "outputs": [],
   "source": [
    "df_3.shape"
   ]
  },
  {
   "cell_type": "code",
   "execution_count": null,
   "id": "5120bf1e",
   "metadata": {},
   "outputs": [],
   "source": [
    "print(df_3[(df_3['Milage']<10000)&(df_3['Year']<2024)].shape)\n",
    "Mileage_less_10000 = df_3[(df_3['Milage']<10000)&(df_3['Year']<2024)].index"
   ]
  },
  {
   "cell_type": "code",
   "execution_count": null,
   "id": "a10c0168",
   "metadata": {},
   "outputs": [],
   "source": [
    "df_3[(df_3['Milage']<10000)&(df_3['Year']<2024)]"
   ]
  },
  {
   "cell_type": "code",
   "execution_count": null,
   "id": "26b43a51",
   "metadata": {},
   "outputs": [],
   "source": [
    "df_4 = df_3.copy()"
   ]
  },
  {
   "cell_type": "code",
   "execution_count": null,
   "id": "44870c51",
   "metadata": {},
   "outputs": [],
   "source": [
    "Group_By_brand_Mileage = df_3.groupby(['Brand','Year'])['Milage'].mean().round().reset_index()\n",
    "Group_By_brand_Mileage"
   ]
  },
  {
   "cell_type": "code",
   "execution_count": null,
   "id": "f3d353bd",
   "metadata": {},
   "outputs": [],
   "source": [
    "for index_1 in Group_By_brand_Mileage.index:\n",
    "    for index_2 in Mileage_less_10000:\n",
    "        if (Group_By_brand_Mileage.loc[index_1, 'Brand'] == df_4.loc[index_2, 'Brand']) and (Group_By_brand_Mileage.loc[index_1, 'Year'] == df_4.loc[index_2, 'Year']):\n",
    "            df_4.loc[index_2, 'Milage'] = Group_By_brand_Mileage.loc[index_1, 'Milage']\n",
    "    \n",
    "        "
   ]
  },
  {
   "cell_type": "code",
   "execution_count": null,
   "id": "77e3cb27",
   "metadata": {},
   "outputs": [],
   "source": [
    "df_4[df_4['Milage']<1000].sample(10)"
   ]
  },
  {
   "cell_type": "code",
   "execution_count": null,
   "id": "c8a4b65b",
   "metadata": {},
   "outputs": [],
   "source": [
    "Group_by_Brand_Price = df_4.groupby('Brand')['Price'].mean().round().reset_index()\n",
    "Group_by_Brand_Price"
   ]
  },
  {
   "cell_type": "code",
   "execution_count": null,
   "id": "42f6be24",
   "metadata": {},
   "outputs": [],
   "source": [
    "Price_than_10000_index = df_3[df_3['Price']<100000].index\n",
    "df_3[df_3['Price']<100000].shape"
   ]
  },
  {
   "cell_type": "code",
   "execution_count": null,
   "id": "7d0b1769",
   "metadata": {},
   "outputs": [],
   "source": [
    "for index_1 in Group_by_Brand_Price.index:\n",
    "    for index_2 in Price_than_10000_index:\n",
    "        if (Group_by_Brand_Price.loc[index_1, 'Brand'] == df_4.loc[index_2, 'Brand']):\n",
    "            df_4.loc[index_2, 'Price'] = Group_by_Brand_Price.loc[index_1, 'Price']"
   ]
  },
  {
   "cell_type": "code",
   "execution_count": null,
   "id": "55b8de68",
   "metadata": {},
   "outputs": [],
   "source": [
    "df_4 = df_4.drop('Options',axis=1)"
   ]
  },
  {
   "cell_type": "code",
   "execution_count": null,
   "id": "2f06dce0",
   "metadata": {},
   "outputs": [],
   "source": [
    "df_4[(df_4['Year']==2026)|(df_4['Year']==0)]"
   ]
  },
  {
   "cell_type": "code",
   "execution_count": null,
   "id": "25b4554d",
   "metadata": {},
   "outputs": [],
   "source": [
    "df_4 = df_4.drop(df_4[(df_4['Year']==2026)|(df_4['Year']==0)].index)"
   ]
  },
  {
   "cell_type": "code",
   "execution_count": null,
   "id": "d9156313",
   "metadata": {},
   "outputs": [],
   "source": [
    "df_4.duplicated().sum()"
   ]
  },
  {
   "cell_type": "code",
   "execution_count": null,
   "id": "b69c23bd",
   "metadata": {},
   "outputs": [],
   "source": [
    "df_4 = df_4.drop_duplicates()"
   ]
  },
  {
   "cell_type": "code",
   "execution_count": null,
   "id": "79a4467d",
   "metadata": {},
   "outputs": [],
   "source": []
  },
  {
   "cell_type": "code",
   "execution_count": null,
   "id": "5f1f179a",
   "metadata": {},
   "outputs": [],
   "source": [
    "col_brand= df_4['Brand'].apply(lambda x: re.sub(r'\\s*\\|\\|\\s*', ' || ', x))\n"
   ]
  },
  {
   "cell_type": "code",
   "execution_count": null,
   "id": "0cffdc5c",
   "metadata": {},
   "outputs": [],
   "source": [
    "df_4['Brand'] = df_4['Brand'].apply(lambda x: get_display(arabic_reshaper.reshape(x)))\n",
    "df_4['Model'] = df_4['Brand'].apply(lambda x: get_display(arabic_reshaper.reshape(x)))\n",
    "df_4['Transmission'] = df_4['Transmission'].apply(lambda x: get_display(arabic_reshaper.reshape(x)))\n",
    "df_4['Fuel'] = df_4['Fuel'].apply(lambda x: get_display(arabic_reshaper.reshape(x)))\n",
    "df_4['Location'] = df_4['Location'].apply(lambda x: get_display(arabic_reshaper.reshape(x)))\n",
    "df_4['Color'] = df_4['Color'].apply(lambda x: get_display(arabic_reshaper.reshape(x)))"
   ]
  },
  {
   "cell_type": "code",
   "execution_count": null,
   "id": "7ce0b20f",
   "metadata": {},
   "outputs": [],
   "source": [
    "#the final data set is df_4 and df_5 after removing the outliers"
   ]
  },
  {
   "cell_type": "code",
   "execution_count": null,
   "id": "097a6eb4",
   "metadata": {},
   "outputs": [],
   "source": [
    "Visualize = Visualize(df_4)"
   ]
  },
  {
   "cell_type": "code",
   "execution_count": null,
   "id": "76e6d0fc",
   "metadata": {},
   "outputs": [],
   "source": [
    "Visualize.comparing_Year_with_Milage_price()"
   ]
  },
  {
   "cell_type": "code",
   "execution_count": null,
   "id": "58c800c4",
   "metadata": {},
   "outputs": [],
   "source": [
    "Visualize.heat_map(['Year','Milage','Price'])"
   ]
  },
  {
   "cell_type": "code",
   "execution_count": null,
   "id": "f41906ab",
   "metadata": {},
   "outputs": [],
   "source": [
    "Visualize.Distribution_of_Price_Mileage_Year(df_4)"
   ]
  },
  {
   "cell_type": "code",
   "execution_count": null,
   "id": "6c90cd2c",
   "metadata": {},
   "outputs": [],
   "source": [
    "df_5 = df_4.copy()\n",
    "for column in df_5[['Year','Milage','Price']]:\n",
    "    q1=df_4[column].quantile(0.25)\n",
    "    q3=df_4[column].quantile(0.75)\n",
    "    IQR=q3-q1\n",
    "    df_5 = df_5[~((df_5[column] <= (q1 - 1.5 * IQR)) | (df_5[column] >= (q3 + 1.5 * IQR)))]"
   ]
  },
  {
   "cell_type": "code",
   "execution_count": null,
   "id": "284a6d52",
   "metadata": {},
   "outputs": [],
   "source": [
    "Visualize.Distribution_of_Price_Mileage_Year(df_5)"
   ]
  },
  {
   "cell_type": "code",
   "execution_count": null,
   "id": "f2eada65",
   "metadata": {},
   "outputs": [],
   "source": [
    "df_4[df_4[\"Transmission\"]=='DSG'].index"
   ]
  },
  {
   "cell_type": "code",
   "execution_count": null,
   "id": "dab9b23e",
   "metadata": {},
   "outputs": [],
   "source": [
    "Visualize.piechart_Transmission()"
   ]
  },
  {
   "cell_type": "code",
   "execution_count": null,
   "id": "0b246cb0",
   "metadata": {},
   "outputs": [],
   "source": [
    "grouping = df_4.groupby('Brand')['Price'].sum().reset_index().sort_values(by='Price',ascending=False).head(10)"
   ]
  },
  {
   "cell_type": "code",
   "execution_count": null,
   "id": "60f95c39",
   "metadata": {},
   "outputs": [],
   "source": [
    "sns.barplot(grouping, x=\"Brand\", y=\"Price\", estimator=\"sum\", errorbar=None)\n"
   ]
  },
  {
   "cell_type": "code",
   "execution_count": null,
   "id": "38911bc3",
   "metadata": {},
   "outputs": [],
   "source": []
  }
 ],
 "metadata": {
  "kernelspec": {
   "display_name": "Python 3",
   "language": "python",
   "name": "python3"
  },
  "language_info": {
   "codemirror_mode": {
    "name": "ipython",
    "version": 3
   },
   "file_extension": ".py",
   "mimetype": "text/x-python",
   "name": "python",
   "nbconvert_exporter": "python",
   "pygments_lexer": "ipython3",
   "version": "3.12.2"
  }
 },
 "nbformat": 4,
 "nbformat_minor": 5
}
