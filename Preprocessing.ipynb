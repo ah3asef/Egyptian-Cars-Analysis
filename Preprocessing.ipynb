{
 "cells": [
  {
   "cell_type": "code",
   "execution_count": 1,
   "id": "dcee5a1e",
   "metadata": {},
   "outputs": [],
   "source": [
    "from Methods import*\n",
    "import pandas as pd"
   ]
  },
  {
   "cell_type": "code",
   "execution_count": 2,
   "id": "ad294ea1",
   "metadata": {},
   "outputs": [],
   "source": [
    "data = pd.read_excel('G:/ahmed/Final Project ds tools/Egyptian-Cars-Analysis/DataSetScraping3.xlsx')\n",
    "df = data.copy()"
   ]
  },
  {
   "cell_type": "code",
   "execution_count": 3,
   "id": "e28510d9",
   "metadata": {},
   "outputs": [],
   "source": [
    "df_1 = df.copy()\n",
    "Modify = Modify(df_1)"
   ]
  },
  {
   "cell_type": "code",
   "execution_count": 4,
   "id": "de89c573",
   "metadata": {},
   "outputs": [
    {
     "name": "stdout",
     "output_type": "stream",
     "text": [
      "The Number of values that don't have a number is : 0\n",
      "\n",
      "The Number of values that don't have a number is : 64\n",
      "\n"
     ]
    },
    {
     "data": {
      "text/html": [
       "<div>\n",
       "<style scoped>\n",
       "    .dataframe tbody tr th:only-of-type {\n",
       "        vertical-align: middle;\n",
       "    }\n",
       "\n",
       "    .dataframe tbody tr th {\n",
       "        vertical-align: top;\n",
       "    }\n",
       "\n",
       "    .dataframe thead th {\n",
       "        text-align: right;\n",
       "    }\n",
       "</style>\n",
       "<table border=\"1\" class=\"dataframe\">\n",
       "  <thead>\n",
       "    <tr style=\"text-align: right;\">\n",
       "      <th></th>\n",
       "      <th>Brand</th>\n",
       "      <th>Model</th>\n",
       "      <th>Options</th>\n",
       "      <th>Year</th>\n",
       "      <th>Milage</th>\n",
       "      <th>Transmission</th>\n",
       "      <th>Location</th>\n",
       "      <th>Color</th>\n",
       "      <th>Fuel</th>\n",
       "      <th>Price</th>\n",
       "      <th>Post Date</th>\n",
       "    </tr>\n",
       "  </thead>\n",
       "  <tbody>\n",
       "  </tbody>\n",
       "</table>\n",
       "</div>"
      ],
      "text/plain": [
       "Empty DataFrame\n",
       "Columns: [Brand, Model, Options, Year, Milage, Transmission, Location, Color, Fuel, Price, Post Date]\n",
       "Index: []"
      ]
     },
     "execution_count": 4,
     "metadata": {},
     "output_type": "execute_result"
    }
   ],
   "source": [
    "df_int =Modify.Extract_int(['Price','Milage'])\n",
    "df_int[(df_int['Transmission'] != 'أتوماتيك\\u200e') & (df_int['Transmission'] != 'مانيوال') & (df_int['Transmission'] !='DSG')]"
   ]
  },
  {
   "cell_type": "code",
   "execution_count": 5,
   "id": "f06b9a66",
   "metadata": {},
   "outputs": [],
   "source": [
    "df_2 = Modify.fill_na_mileage(df_int,'Year','Milage')"
   ]
  },
  {
   "cell_type": "code",
   "execution_count": 6,
   "id": "40595af7",
   "metadata": {},
   "outputs": [
    {
     "data": {
      "text/html": [
       "<div>\n",
       "<style scoped>\n",
       "    .dataframe tbody tr th:only-of-type {\n",
       "        vertical-align: middle;\n",
       "    }\n",
       "\n",
       "    .dataframe tbody tr th {\n",
       "        vertical-align: top;\n",
       "    }\n",
       "\n",
       "    .dataframe thead th {\n",
       "        text-align: right;\n",
       "    }\n",
       "</style>\n",
       "<table border=\"1\" class=\"dataframe\">\n",
       "  <thead>\n",
       "    <tr style=\"text-align: right;\">\n",
       "      <th></th>\n",
       "      <th>Brand</th>\n",
       "      <th>Model</th>\n",
       "      <th>Options</th>\n",
       "      <th>Year</th>\n",
       "      <th>Milage</th>\n",
       "      <th>Transmission</th>\n",
       "      <th>Location</th>\n",
       "      <th>Color</th>\n",
       "      <th>Fuel</th>\n",
       "      <th>Price</th>\n",
       "      <th>Post Date</th>\n",
       "    </tr>\n",
       "  </thead>\n",
       "  <tbody>\n",
       "  </tbody>\n",
       "</table>\n",
       "</div>"
      ],
      "text/plain": [
       "Empty DataFrame\n",
       "Columns: [Brand, Model, Options, Year, Milage, Transmission, Location, Color, Fuel, Price, Post Date]\n",
       "Index: []"
      ]
     },
     "execution_count": 6,
     "metadata": {},
     "output_type": "execute_result"
    }
   ],
   "source": [
    "df_2.loc[df_2['Milage'].isna()]"
   ]
  },
  {
   "cell_type": "code",
   "execution_count": 7,
   "id": "5d6b48d9",
   "metadata": {},
   "outputs": [
    {
     "name": "stdout",
     "output_type": "stream",
     "text": [
      "The Number of values that don't have a number is : 64\n",
      "\n"
     ]
    }
   ],
   "source": [
    "df_3 = Modify.fill_zero_mileage(df_2,'Year','Milage')"
   ]
  },
  {
   "cell_type": "code",
   "execution_count": 8,
   "id": "5f189213",
   "metadata": {},
   "outputs": [
    {
     "data": {
      "text/html": [
       "<div>\n",
       "<style scoped>\n",
       "    .dataframe tbody tr th:only-of-type {\n",
       "        vertical-align: middle;\n",
       "    }\n",
       "\n",
       "    .dataframe tbody tr th {\n",
       "        vertical-align: top;\n",
       "    }\n",
       "\n",
       "    .dataframe thead th {\n",
       "        text-align: right;\n",
       "    }\n",
       "</style>\n",
       "<table border=\"1\" class=\"dataframe\">\n",
       "  <thead>\n",
       "    <tr style=\"text-align: right;\">\n",
       "      <th></th>\n",
       "      <th>Brand</th>\n",
       "      <th>Model</th>\n",
       "      <th>Options</th>\n",
       "      <th>Year</th>\n",
       "      <th>Milage</th>\n",
       "      <th>Transmission</th>\n",
       "      <th>Location</th>\n",
       "      <th>Color</th>\n",
       "      <th>Fuel</th>\n",
       "      <th>Price</th>\n",
       "      <th>Post Date</th>\n",
       "    </tr>\n",
       "  </thead>\n",
       "  <tbody>\n",
       "    <tr>\n",
       "      <th>13947</th>\n",
       "      <td>فولكس فاغن                                    ...</td>\n",
       "      <td>بيتل                                          ...</td>\n",
       "      <td>NaN</td>\n",
       "      <td>1971</td>\n",
       "      <td>0</td>\n",
       "      <td>مانيوال</td>\n",
       "      <td>التجمع - القاهرة الجديدة</td>\n",
       "      <td>أزرق</td>\n",
       "      <td>بنزين</td>\n",
       "      <td>95000</td>\n",
       "      <td>2025-02-10</td>\n",
       "    </tr>\n",
       "  </tbody>\n",
       "</table>\n",
       "</div>"
      ],
      "text/plain": [
       "                                                   Brand  \\\n",
       "13947  فولكس فاغن                                    ...   \n",
       "\n",
       "                                                   Model Options  Year  \\\n",
       "13947  بيتل                                          ...     NaN  1971   \n",
       "\n",
       "       Milage Transmission                  Location Color   Fuel  Price  \\\n",
       "13947       0      مانيوال  التجمع - القاهرة الجديدة  أزرق  بنزين  95000   \n",
       "\n",
       "        Post Date  \n",
       "13947  2025-02-10  "
      ]
     },
     "execution_count": 8,
     "metadata": {},
     "output_type": "execute_result"
    }
   ],
   "source": [
    "df_3.loc[df_3['Milage']==0]"
   ]
  },
  {
   "cell_type": "code",
   "execution_count": 9,
   "id": "33d1257e",
   "metadata": {},
   "outputs": [],
   "source": [
    "df_3['Price'] = df_3['Price'].astype('int64')"
   ]
  },
  {
   "cell_type": "code",
   "execution_count": 10,
   "id": "e1f869a8",
   "metadata": {},
   "outputs": [
    {
     "name": "stdout",
     "output_type": "stream",
     "text": [
      "<class 'pandas.core.frame.DataFrame'>\n",
      "RangeIndex: 22557 entries, 0 to 22556\n",
      "Data columns (total 11 columns):\n",
      " #   Column        Non-Null Count  Dtype \n",
      "---  ------        --------------  ----- \n",
      " 0   Brand         22557 non-null  object\n",
      " 1   Model         22557 non-null  object\n",
      " 2   Options       6860 non-null   object\n",
      " 3   Year          22557 non-null  int64 \n",
      " 4   Milage        22557 non-null  int64 \n",
      " 5   Transmission  22557 non-null  object\n",
      " 6   Location      22557 non-null  object\n",
      " 7   Color         22557 non-null  object\n",
      " 8   Fuel          22557 non-null  object\n",
      " 9   Price         22557 non-null  int64 \n",
      " 10  Post Date     22557 non-null  object\n",
      "dtypes: int64(3), object(8)\n",
      "memory usage: 1.9+ MB\n"
     ]
    }
   ],
   "source": [
    "df_3.info()"
   ]
  },
  {
   "cell_type": "code",
   "execution_count": 11,
   "id": "00509993",
   "metadata": {},
   "outputs": [
    {
     "data": {
      "text/html": [
       "<div>\n",
       "<style scoped>\n",
       "    .dataframe tbody tr th:only-of-type {\n",
       "        vertical-align: middle;\n",
       "    }\n",
       "\n",
       "    .dataframe tbody tr th {\n",
       "        vertical-align: top;\n",
       "    }\n",
       "\n",
       "    .dataframe thead th {\n",
       "        text-align: right;\n",
       "    }\n",
       "</style>\n",
       "<table border=\"1\" class=\"dataframe\">\n",
       "  <thead>\n",
       "    <tr style=\"text-align: right;\">\n",
       "      <th></th>\n",
       "      <th>Brand</th>\n",
       "      <th>Model</th>\n",
       "      <th>Options</th>\n",
       "      <th>Year</th>\n",
       "      <th>Milage</th>\n",
       "      <th>Transmission</th>\n",
       "      <th>Location</th>\n",
       "      <th>Color</th>\n",
       "      <th>Fuel</th>\n",
       "      <th>Price</th>\n",
       "      <th>Post Date</th>\n",
       "    </tr>\n",
       "  </thead>\n",
       "  <tbody>\n",
       "  </tbody>\n",
       "</table>\n",
       "</div>"
      ],
      "text/plain": [
       "Empty DataFrame\n",
       "Columns: [Brand, Model, Options, Year, Milage, Transmission, Location, Color, Fuel, Price, Post Date]\n",
       "Index: []"
      ]
     },
     "execution_count": 11,
     "metadata": {},
     "output_type": "execute_result"
    }
   ],
   "source": [
    "df_3[(df_3['Transmission'] != 'أتوماتيك\\u200e') & (df_3['Transmission'] != 'مانيوال') & (df_3['Transmission'] !='DSG')]"
   ]
  },
  {
   "cell_type": "code",
   "execution_count": 12,
   "id": "5eb9f3be",
   "metadata": {},
   "outputs": [],
   "source": [
    "df_3 = df_3.drop(df_3[df_3['Milage']==0].index)"
   ]
  },
  {
   "cell_type": "code",
   "execution_count": 13,
   "id": "9723ad3b",
   "metadata": {},
   "outputs": [
    {
     "data": {
      "text/plain": [
       "(22556, 11)"
      ]
     },
     "execution_count": 13,
     "metadata": {},
     "output_type": "execute_result"
    }
   ],
   "source": [
    "df_3.shape"
   ]
  },
  {
   "cell_type": "code",
   "execution_count": 14,
   "id": "5120bf1e",
   "metadata": {},
   "outputs": [
    {
     "name": "stdout",
     "output_type": "stream",
     "text": [
      "(277, 11)\n"
     ]
    }
   ],
   "source": [
    "print(df_3[(df_3['Milage']<10000)&(df_3['Year']<2024)].shape)\n",
    "Mileage_less_10000 = df_3[(df_3['Milage']<10000)&(df_3['Year']<2024)].index"
   ]
  },
  {
   "cell_type": "code",
   "execution_count": 15,
   "id": "a10c0168",
   "metadata": {},
   "outputs": [
    {
     "data": {
      "text/html": [
       "<div>\n",
       "<style scoped>\n",
       "    .dataframe tbody tr th:only-of-type {\n",
       "        vertical-align: middle;\n",
       "    }\n",
       "\n",
       "    .dataframe tbody tr th {\n",
       "        vertical-align: top;\n",
       "    }\n",
       "\n",
       "    .dataframe thead th {\n",
       "        text-align: right;\n",
       "    }\n",
       "</style>\n",
       "<table border=\"1\" class=\"dataframe\">\n",
       "  <thead>\n",
       "    <tr style=\"text-align: right;\">\n",
       "      <th></th>\n",
       "      <th>Brand</th>\n",
       "      <th>Model</th>\n",
       "      <th>Options</th>\n",
       "      <th>Year</th>\n",
       "      <th>Milage</th>\n",
       "      <th>Transmission</th>\n",
       "      <th>Location</th>\n",
       "      <th>Color</th>\n",
       "      <th>Fuel</th>\n",
       "      <th>Price</th>\n",
       "      <th>Post Date</th>\n",
       "    </tr>\n",
       "  </thead>\n",
       "  <tbody>\n",
       "    <tr>\n",
       "      <th>4</th>\n",
       "      <td>بي ام دبليو                                   ...</td>\n",
       "      <td>X3</td>\n",
       "      <td>اتوماتيك  / Comfort</td>\n",
       "      <td>2018</td>\n",
       "      <td>168</td>\n",
       "      <td>أتوماتيك‎</td>\n",
       "      <td>6 أكتوبر</td>\n",
       "      <td>فضي</td>\n",
       "      <td>بنزين</td>\n",
       "      <td>1800000</td>\n",
       "      <td>2025-04-18</td>\n",
       "    </tr>\n",
       "    <tr>\n",
       "      <th>17</th>\n",
       "      <td>هيونداي                                       ...</td>\n",
       "      <td>فيرنا                                         ...</td>\n",
       "      <td>NaN</td>\n",
       "      <td>2015</td>\n",
       "      <td>350</td>\n",
       "      <td>أتوماتيك‎</td>\n",
       "      <td>6 أكتوبر</td>\n",
       "      <td>رمادي</td>\n",
       "      <td>بنزين</td>\n",
       "      <td>410000</td>\n",
       "      <td>2025-04-18</td>\n",
       "    </tr>\n",
       "    <tr>\n",
       "      <th>18</th>\n",
       "      <td>هيونداي                                       ...</td>\n",
       "      <td>إلنترا اتش دى                                 ...</td>\n",
       "      <td>NaN</td>\n",
       "      <td>2015</td>\n",
       "      <td>350</td>\n",
       "      <td>أتوماتيك‎</td>\n",
       "      <td>6 أكتوبر</td>\n",
       "      <td>رمادي</td>\n",
       "      <td>بنزين</td>\n",
       "      <td>630000</td>\n",
       "      <td>2025-04-18</td>\n",
       "    </tr>\n",
       "    <tr>\n",
       "      <th>20</th>\n",
       "      <td>فيات                                          ...</td>\n",
       "      <td>128</td>\n",
       "      <td>NaN</td>\n",
       "      <td>1977</td>\n",
       "      <td>1</td>\n",
       "      <td>مانيوال</td>\n",
       "      <td>المعادى</td>\n",
       "      <td>احمر</td>\n",
       "      <td>بنزين</td>\n",
       "      <td>45000</td>\n",
       "      <td>2025-04-18</td>\n",
       "    </tr>\n",
       "    <tr>\n",
       "      <th>24</th>\n",
       "      <td>سكودا                                         ...</td>\n",
       "      <td>فيليشيا                                       ...</td>\n",
       "      <td>NaN</td>\n",
       "      <td>1995</td>\n",
       "      <td>200</td>\n",
       "      <td>أتوماتيك‎</td>\n",
       "      <td>سفاجا</td>\n",
       "      <td>أزرق</td>\n",
       "      <td>بنزين</td>\n",
       "      <td>140</td>\n",
       "      <td>2025-04-18</td>\n",
       "    </tr>\n",
       "    <tr>\n",
       "      <th>...</th>\n",
       "      <td>...</td>\n",
       "      <td>...</td>\n",
       "      <td>...</td>\n",
       "      <td>...</td>\n",
       "      <td>...</td>\n",
       "      <td>...</td>\n",
       "      <td>...</td>\n",
       "      <td>...</td>\n",
       "      <td>...</td>\n",
       "      <td>...</td>\n",
       "      <td>...</td>\n",
       "    </tr>\n",
       "    <tr>\n",
       "      <th>22309</th>\n",
       "      <td>مرسيدس                                        ...</td>\n",
       "      <td>GLC 200</td>\n",
       "      <td>NaN</td>\n",
       "      <td>2023</td>\n",
       "      <td>5000</td>\n",
       "      <td>أتوماتيك‎</td>\n",
       "      <td>المنصورة</td>\n",
       "      <td>أسود</td>\n",
       "      <td>بنزين</td>\n",
       "      <td>5500000</td>\n",
       "      <td>2025-01-24</td>\n",
       "    </tr>\n",
       "    <tr>\n",
       "      <th>22370</th>\n",
       "      <td>مرسيدس                                        ...</td>\n",
       "      <td>C 180</td>\n",
       "      <td>NaN</td>\n",
       "      <td>2023</td>\n",
       "      <td>2850</td>\n",
       "      <td>أتوماتيك‎</td>\n",
       "      <td>دمياط</td>\n",
       "      <td>فضي</td>\n",
       "      <td>بنزين</td>\n",
       "      <td>3195000</td>\n",
       "      <td>2025-01-23</td>\n",
       "    </tr>\n",
       "    <tr>\n",
       "      <th>22371</th>\n",
       "      <td>بيجو                                          ...</td>\n",
       "      <td>3008</td>\n",
       "      <td>NaN</td>\n",
       "      <td>2023</td>\n",
       "      <td>2850</td>\n",
       "      <td>أتوماتيك‎</td>\n",
       "      <td>دمياط</td>\n",
       "      <td>فضي</td>\n",
       "      <td>بنزين</td>\n",
       "      <td>1650000</td>\n",
       "      <td>2025-01-23</td>\n",
       "    </tr>\n",
       "    <tr>\n",
       "      <th>22496</th>\n",
       "      <td>دونج فنج                                      ...</td>\n",
       "      <td>فينوتشيا ستار                                 ...</td>\n",
       "      <td>اتوماتيك</td>\n",
       "      <td>2023</td>\n",
       "      <td>7000</td>\n",
       "      <td>أتوماتيك‎</td>\n",
       "      <td>الهرم</td>\n",
       "      <td>أبيض</td>\n",
       "      <td>بنزين</td>\n",
       "      <td>1250000</td>\n",
       "      <td>2025-01-21</td>\n",
       "    </tr>\n",
       "    <tr>\n",
       "      <th>22500</th>\n",
       "      <td>هيونداي                                       ...</td>\n",
       "      <td>إلنترا اى دى                                  ...</td>\n",
       "      <td>NaN</td>\n",
       "      <td>2023</td>\n",
       "      <td>1000</td>\n",
       "      <td>أتوماتيك‎</td>\n",
       "      <td>القاهرة</td>\n",
       "      <td>أبيض</td>\n",
       "      <td>بنزين</td>\n",
       "      <td>1800000</td>\n",
       "      <td>2025-01-21</td>\n",
       "    </tr>\n",
       "  </tbody>\n",
       "</table>\n",
       "<p>277 rows × 11 columns</p>\n",
       "</div>"
      ],
      "text/plain": [
       "                                                   Brand  \\\n",
       "4      بي ام دبليو                                   ...   \n",
       "17     هيونداي                                       ...   \n",
       "18     هيونداي                                       ...   \n",
       "20     فيات                                          ...   \n",
       "24     سكودا                                         ...   \n",
       "...                                                  ...   \n",
       "22309  مرسيدس                                        ...   \n",
       "22370  مرسيدس                                        ...   \n",
       "22371  بيجو                                          ...   \n",
       "22496  دونج فنج                                      ...   \n",
       "22500  هيونداي                                       ...   \n",
       "\n",
       "                                                   Model              Options  \\\n",
       "4                                                     X3  اتوماتيك  / Comfort   \n",
       "17     فيرنا                                         ...                  NaN   \n",
       "18     إلنترا اتش دى                                 ...                  NaN   \n",
       "20                                                   128                  NaN   \n",
       "24     فيليشيا                                       ...                  NaN   \n",
       "...                                                  ...                  ...   \n",
       "22309                                            GLC 200                  NaN   \n",
       "22370                                              C 180                  NaN   \n",
       "22371                                               3008                  NaN   \n",
       "22496  فينوتشيا ستار                                 ...             اتوماتيك   \n",
       "22500  إلنترا اى دى                                  ...                  NaN   \n",
       "\n",
       "       Year  Milage Transmission  Location  Color   Fuel    Price   Post Date  \n",
       "4      2018     168    أتوماتيك‎  6 أكتوبر    فضي  بنزين  1800000  2025-04-18  \n",
       "17     2015     350    أتوماتيك‎  6 أكتوبر  رمادي  بنزين   410000  2025-04-18  \n",
       "18     2015     350    أتوماتيك‎  6 أكتوبر  رمادي  بنزين   630000  2025-04-18  \n",
       "20     1977       1      مانيوال   المعادى   احمر  بنزين    45000  2025-04-18  \n",
       "24     1995     200    أتوماتيك‎     سفاجا   أزرق  بنزين      140  2025-04-18  \n",
       "...     ...     ...          ...       ...    ...    ...      ...         ...  \n",
       "22309  2023    5000    أتوماتيك‎  المنصورة   أسود  بنزين  5500000  2025-01-24  \n",
       "22370  2023    2850    أتوماتيك‎     دمياط    فضي  بنزين  3195000  2025-01-23  \n",
       "22371  2023    2850    أتوماتيك‎     دمياط    فضي  بنزين  1650000  2025-01-23  \n",
       "22496  2023    7000    أتوماتيك‎     الهرم   أبيض  بنزين  1250000  2025-01-21  \n",
       "22500  2023    1000    أتوماتيك‎   القاهرة   أبيض  بنزين  1800000  2025-01-21  \n",
       "\n",
       "[277 rows x 11 columns]"
      ]
     },
     "execution_count": 15,
     "metadata": {},
     "output_type": "execute_result"
    }
   ],
   "source": [
    "df_3[(df_3['Milage']<10000)&(df_3['Year']<2024)]"
   ]
  },
  {
   "cell_type": "code",
   "execution_count": 16,
   "id": "26b43a51",
   "metadata": {},
   "outputs": [],
   "source": [
    "df_4 = df_3.copy()"
   ]
  },
  {
   "cell_type": "code",
   "execution_count": 17,
   "id": "44870c51",
   "metadata": {},
   "outputs": [
    {
     "data": {
      "text/html": [
       "<div>\n",
       "<style scoped>\n",
       "    .dataframe tbody tr th:only-of-type {\n",
       "        vertical-align: middle;\n",
       "    }\n",
       "\n",
       "    .dataframe tbody tr th {\n",
       "        vertical-align: top;\n",
       "    }\n",
       "\n",
       "    .dataframe thead th {\n",
       "        text-align: right;\n",
       "    }\n",
       "</style>\n",
       "<table border=\"1\" class=\"dataframe\">\n",
       "  <thead>\n",
       "    <tr style=\"text-align: right;\">\n",
       "      <th></th>\n",
       "      <th>Brand</th>\n",
       "      <th>Year</th>\n",
       "      <th>Milage</th>\n",
       "    </tr>\n",
       "  </thead>\n",
       "  <tbody>\n",
       "    <tr>\n",
       "      <th>0</th>\n",
       "      <td>اسبيرانزا                                     ...</td>\n",
       "      <td>1990</td>\n",
       "      <td>105121.0</td>\n",
       "    </tr>\n",
       "    <tr>\n",
       "      <th>1</th>\n",
       "      <td>اسبيرانزا                                     ...</td>\n",
       "      <td>2004</td>\n",
       "      <td>165000.0</td>\n",
       "    </tr>\n",
       "    <tr>\n",
       "      <th>2</th>\n",
       "      <td>اسبيرانزا                                     ...</td>\n",
       "      <td>2005</td>\n",
       "      <td>177444.0</td>\n",
       "    </tr>\n",
       "    <tr>\n",
       "      <th>3</th>\n",
       "      <td>اسبيرانزا                                     ...</td>\n",
       "      <td>2006</td>\n",
       "      <td>182500.0</td>\n",
       "    </tr>\n",
       "    <tr>\n",
       "      <th>4</th>\n",
       "      <td>اسبيرانزا                                     ...</td>\n",
       "      <td>2007</td>\n",
       "      <td>198459.0</td>\n",
       "    </tr>\n",
       "    <tr>\n",
       "      <th>...</th>\n",
       "      <td>...</td>\n",
       "      <td>...</td>\n",
       "      <td>...</td>\n",
       "    </tr>\n",
       "    <tr>\n",
       "      <th>1496</th>\n",
       "      <td>هيونداي                                       ...</td>\n",
       "      <td>2022</td>\n",
       "      <td>65544.0</td>\n",
       "    </tr>\n",
       "    <tr>\n",
       "      <th>1497</th>\n",
       "      <td>هيونداي                                       ...</td>\n",
       "      <td>2023</td>\n",
       "      <td>31335.0</td>\n",
       "    </tr>\n",
       "    <tr>\n",
       "      <th>1498</th>\n",
       "      <td>هيونداي                                       ...</td>\n",
       "      <td>2024</td>\n",
       "      <td>13220.0</td>\n",
       "    </tr>\n",
       "    <tr>\n",
       "      <th>1499</th>\n",
       "      <td>هيونداي                                       ...</td>\n",
       "      <td>2025</td>\n",
       "      <td>6440.0</td>\n",
       "    </tr>\n",
       "    <tr>\n",
       "      <th>1500</th>\n",
       "      <td>هيونداي                                       ...</td>\n",
       "      <td>2026</td>\n",
       "      <td>165000.0</td>\n",
       "    </tr>\n",
       "  </tbody>\n",
       "</table>\n",
       "<p>1501 rows × 3 columns</p>\n",
       "</div>"
      ],
      "text/plain": [
       "                                                  Brand  Year    Milage\n",
       "0     اسبيرانزا                                     ...  1990  105121.0\n",
       "1     اسبيرانزا                                     ...  2004  165000.0\n",
       "2     اسبيرانزا                                     ...  2005  177444.0\n",
       "3     اسبيرانزا                                     ...  2006  182500.0\n",
       "4     اسبيرانزا                                     ...  2007  198459.0\n",
       "...                                                 ...   ...       ...\n",
       "1496  هيونداي                                       ...  2022   65544.0\n",
       "1497  هيونداي                                       ...  2023   31335.0\n",
       "1498  هيونداي                                       ...  2024   13220.0\n",
       "1499  هيونداي                                       ...  2025    6440.0\n",
       "1500  هيونداي                                       ...  2026  165000.0\n",
       "\n",
       "[1501 rows x 3 columns]"
      ]
     },
     "execution_count": 17,
     "metadata": {},
     "output_type": "execute_result"
    }
   ],
   "source": [
    "Group_By_brand_Mileage = df_3.groupby(['Brand','Year'])['Milage'].mean().round().reset_index()\n",
    "Group_By_brand_Mileage"
   ]
  },
  {
   "cell_type": "code",
   "execution_count": 18,
   "id": "f3d353bd",
   "metadata": {},
   "outputs": [],
   "source": [
    "for index_1 in Group_By_brand_Mileage.index:\n",
    "    for index_2 in Mileage_less_10000:\n",
    "        if (Group_By_brand_Mileage.loc[index_1, 'Brand'] == df_4.loc[index_2, 'Brand']) and (Group_By_brand_Mileage.loc[index_1, 'Year'] == df_4.loc[index_2, 'Year']):\n",
    "            df_4.loc[index_2, 'Milage'] = Group_By_brand_Mileage.loc[index_1, 'Milage']\n",
    "    \n",
    "        "
   ]
  },
  {
   "cell_type": "code",
   "execution_count": 19,
   "id": "77e3cb27",
   "metadata": {},
   "outputs": [
    {
     "data": {
      "text/html": [
       "<div>\n",
       "<style scoped>\n",
       "    .dataframe tbody tr th:only-of-type {\n",
       "        vertical-align: middle;\n",
       "    }\n",
       "\n",
       "    .dataframe tbody tr th {\n",
       "        vertical-align: top;\n",
       "    }\n",
       "\n",
       "    .dataframe thead th {\n",
       "        text-align: right;\n",
       "    }\n",
       "</style>\n",
       "<table border=\"1\" class=\"dataframe\">\n",
       "  <thead>\n",
       "    <tr style=\"text-align: right;\">\n",
       "      <th></th>\n",
       "      <th>Brand</th>\n",
       "      <th>Model</th>\n",
       "      <th>Options</th>\n",
       "      <th>Year</th>\n",
       "      <th>Milage</th>\n",
       "      <th>Transmission</th>\n",
       "      <th>Location</th>\n",
       "      <th>Color</th>\n",
       "      <th>Fuel</th>\n",
       "      <th>Price</th>\n",
       "      <th>Post Date</th>\n",
       "    </tr>\n",
       "  </thead>\n",
       "  <tbody>\n",
       "    <tr>\n",
       "      <th>2800</th>\n",
       "      <td>بي ام دبليو                                   ...</td>\n",
       "      <td>320</td>\n",
       "      <td>اتوماتيك / Sport</td>\n",
       "      <td>2024</td>\n",
       "      <td>20</td>\n",
       "      <td>أتوماتيك‎</td>\n",
       "      <td>القاهرة</td>\n",
       "      <td>أزرق</td>\n",
       "      <td>بنزين</td>\n",
       "      <td>3400000</td>\n",
       "      <td>2025-04-11</td>\n",
       "    </tr>\n",
       "    <tr>\n",
       "      <th>4521</th>\n",
       "      <td>هيونداي                                       ...</td>\n",
       "      <td>توسان تربو GDI                                ...</td>\n",
       "      <td>NaN</td>\n",
       "      <td>2024</td>\n",
       "      <td>850</td>\n",
       "      <td>أتوماتيك‎</td>\n",
       "      <td>المنصورة</td>\n",
       "      <td>رمادي</td>\n",
       "      <td>بنزين</td>\n",
       "      <td>1900000</td>\n",
       "      <td>2025-04-05</td>\n",
       "    </tr>\n",
       "    <tr>\n",
       "      <th>14927</th>\n",
       "      <td>سكودا                                         ...</td>\n",
       "      <td>اوكتافيا                                      ...</td>\n",
       "      <td>NaN</td>\n",
       "      <td>2025</td>\n",
       "      <td>100</td>\n",
       "      <td>أتوماتيك‎</td>\n",
       "      <td>مصر الجديدة</td>\n",
       "      <td>فيراني</td>\n",
       "      <td>بنزين</td>\n",
       "      <td>2365000</td>\n",
       "      <td>2025-02-04</td>\n",
       "    </tr>\n",
       "    <tr>\n",
       "      <th>14311</th>\n",
       "      <td>شيرى                                          ...</td>\n",
       "      <td>تيجو 7                                        ...</td>\n",
       "      <td>اتوماتيك / Baseline</td>\n",
       "      <td>2025</td>\n",
       "      <td>40</td>\n",
       "      <td>أتوماتيك‎</td>\n",
       "      <td>التجمع - القاهرة الجديدة</td>\n",
       "      <td>برونزي</td>\n",
       "      <td>بنزين</td>\n",
       "      <td>1025000</td>\n",
       "      <td>2025-02-08</td>\n",
       "    </tr>\n",
       "    <tr>\n",
       "      <th>4504</th>\n",
       "      <td>سوزوكى                                        ...</td>\n",
       "      <td>بالينو                                        ...</td>\n",
       "      <td>NaN</td>\n",
       "      <td>2024</td>\n",
       "      <td>7</td>\n",
       "      <td>أتوماتيك‎</td>\n",
       "      <td>الزقازيق</td>\n",
       "      <td>رمادي</td>\n",
       "      <td>بنزين</td>\n",
       "      <td>900000</td>\n",
       "      <td>2025-04-05</td>\n",
       "    </tr>\n",
       "    <tr>\n",
       "      <th>8611</th>\n",
       "      <td>سكودا                                         ...</td>\n",
       "      <td>اوكتافيا A8                                   ...</td>\n",
       "      <td>اتوماتيك / Lounge</td>\n",
       "      <td>2025</td>\n",
       "      <td>10</td>\n",
       "      <td>أتوماتيك‎</td>\n",
       "      <td>القاهرة</td>\n",
       "      <td>أسود</td>\n",
       "      <td>بنزين</td>\n",
       "      <td>2200000</td>\n",
       "      <td>2025-01-19</td>\n",
       "    </tr>\n",
       "    <tr>\n",
       "      <th>10219</th>\n",
       "      <td>روكس                                          ...</td>\n",
       "      <td>01</td>\n",
       "      <td>اتوماتيك /  Family 7 seats</td>\n",
       "      <td>2025</td>\n",
       "      <td>1</td>\n",
       "      <td>أتوماتيك‎</td>\n",
       "      <td>الغردقة</td>\n",
       "      <td>أبيض</td>\n",
       "      <td>بنزين</td>\n",
       "      <td>3750000</td>\n",
       "      <td>2025-03-04</td>\n",
       "    </tr>\n",
       "    <tr>\n",
       "      <th>6702</th>\n",
       "      <td>ام جى                                         ...</td>\n",
       "      <td>7</td>\n",
       "      <td>NaN</td>\n",
       "      <td>2025</td>\n",
       "      <td>250</td>\n",
       "      <td>أتوماتيك‎</td>\n",
       "      <td>مصر الجديدة</td>\n",
       "      <td>أبيض</td>\n",
       "      <td>بنزين</td>\n",
       "      <td>1640000</td>\n",
       "      <td>2025-03-22</td>\n",
       "    </tr>\n",
       "    <tr>\n",
       "      <th>2047</th>\n",
       "      <td>بي ام دبليو                                   ...</td>\n",
       "      <td>520</td>\n",
       "      <td>اتوماتيك / Ambition</td>\n",
       "      <td>2024</td>\n",
       "      <td>950</td>\n",
       "      <td>أتوماتيك‎</td>\n",
       "      <td>الإسكندرية</td>\n",
       "      <td>فضي</td>\n",
       "      <td>بنزين</td>\n",
       "      <td>1600000</td>\n",
       "      <td>2025-04-19</td>\n",
       "    </tr>\n",
       "    <tr>\n",
       "      <th>2166</th>\n",
       "      <td>بي ام دبليو                                   ...</td>\n",
       "      <td>X6</td>\n",
       "      <td>اتوماتيك / X6 xDrive40i</td>\n",
       "      <td>2025</td>\n",
       "      <td>800</td>\n",
       "      <td>أتوماتيك‎</td>\n",
       "      <td>التجمع - القاهرة الجديدة</td>\n",
       "      <td>أبيض</td>\n",
       "      <td>بنزين</td>\n",
       "      <td>7750000</td>\n",
       "      <td>2025-04-19</td>\n",
       "    </tr>\n",
       "  </tbody>\n",
       "</table>\n",
       "</div>"
      ],
      "text/plain": [
       "                                                   Brand  \\\n",
       "2800   بي ام دبليو                                   ...   \n",
       "4521   هيونداي                                       ...   \n",
       "14927  سكودا                                         ...   \n",
       "14311  شيرى                                          ...   \n",
       "4504   سوزوكى                                        ...   \n",
       "8611   سكودا                                         ...   \n",
       "10219  روكس                                          ...   \n",
       "6702   ام جى                                         ...   \n",
       "2047   بي ام دبليو                                   ...   \n",
       "2166   بي ام دبليو                                   ...   \n",
       "\n",
       "                                                   Model  \\\n",
       "2800                                                 320   \n",
       "4521   توسان تربو GDI                                ...   \n",
       "14927  اوكتافيا                                      ...   \n",
       "14311  تيجو 7                                        ...   \n",
       "4504   بالينو                                        ...   \n",
       "8611   اوكتافيا A8                                   ...   \n",
       "10219                                                 01   \n",
       "6702                                                   7   \n",
       "2047                                                 520   \n",
       "2166                                                  X6   \n",
       "\n",
       "                          Options  Year  Milage Transmission  \\\n",
       "2800             اتوماتيك / Sport  2024      20    أتوماتيك‎   \n",
       "4521                          NaN  2024     850    أتوماتيك‎   \n",
       "14927                         NaN  2025     100    أتوماتيك‎   \n",
       "14311         اتوماتيك / Baseline  2025      40    أتوماتيك‎   \n",
       "4504                          NaN  2024       7    أتوماتيك‎   \n",
       "8611            اتوماتيك / Lounge  2025      10    أتوماتيك‎   \n",
       "10219  اتوماتيك /  Family 7 seats  2025       1    أتوماتيك‎   \n",
       "6702                          NaN  2025     250    أتوماتيك‎   \n",
       "2047          اتوماتيك / Ambition  2024     950    أتوماتيك‎   \n",
       "2166      اتوماتيك / X6 xDrive40i  2025     800    أتوماتيك‎   \n",
       "\n",
       "                       Location   Color   Fuel    Price   Post Date  \n",
       "2800                    القاهرة    أزرق  بنزين  3400000  2025-04-11  \n",
       "4521                   المنصورة   رمادي  بنزين  1900000  2025-04-05  \n",
       "14927               مصر الجديدة  فيراني  بنزين  2365000  2025-02-04  \n",
       "14311  التجمع - القاهرة الجديدة  برونزي  بنزين  1025000  2025-02-08  \n",
       "4504                   الزقازيق   رمادي  بنزين   900000  2025-04-05  \n",
       "8611                    القاهرة    أسود  بنزين  2200000  2025-01-19  \n",
       "10219                   الغردقة    أبيض  بنزين  3750000  2025-03-04  \n",
       "6702                مصر الجديدة    أبيض  بنزين  1640000  2025-03-22  \n",
       "2047                 الإسكندرية     فضي  بنزين  1600000  2025-04-19  \n",
       "2166   التجمع - القاهرة الجديدة    أبيض  بنزين  7750000  2025-04-19  "
      ]
     },
     "execution_count": 19,
     "metadata": {},
     "output_type": "execute_result"
    }
   ],
   "source": [
    "df_4[df_4['Milage']<1000].sample(10)"
   ]
  },
  {
   "cell_type": "code",
   "execution_count": 20,
   "id": "c8a4b65b",
   "metadata": {},
   "outputs": [
    {
     "data": {
      "text/html": [
       "<div>\n",
       "<style scoped>\n",
       "    .dataframe tbody tr th:only-of-type {\n",
       "        vertical-align: middle;\n",
       "    }\n",
       "\n",
       "    .dataframe tbody tr th {\n",
       "        vertical-align: top;\n",
       "    }\n",
       "\n",
       "    .dataframe thead th {\n",
       "        text-align: right;\n",
       "    }\n",
       "</style>\n",
       "<table border=\"1\" class=\"dataframe\">\n",
       "  <thead>\n",
       "    <tr style=\"text-align: right;\">\n",
       "      <th></th>\n",
       "      <th>Brand</th>\n",
       "      <th>Price</th>\n",
       "    </tr>\n",
       "  </thead>\n",
       "  <tbody>\n",
       "    <tr>\n",
       "      <th>0</th>\n",
       "      <td>اسبيرانزا                                     ...</td>\n",
       "      <td>273500.0</td>\n",
       "    </tr>\n",
       "    <tr>\n",
       "      <th>1</th>\n",
       "      <td>اكسييد                                        ...</td>\n",
       "      <td>1361667.0</td>\n",
       "    </tr>\n",
       "    <tr>\n",
       "      <th>2</th>\n",
       "      <td>الفاروميو                                     ...</td>\n",
       "      <td>1208366.0</td>\n",
       "    </tr>\n",
       "    <tr>\n",
       "      <th>3</th>\n",
       "      <td>ام جى                                         ...</td>\n",
       "      <td>916383.0</td>\n",
       "    </tr>\n",
       "    <tr>\n",
       "      <th>4</th>\n",
       "      <td>امجيراند                                      ...</td>\n",
       "      <td>236667.0</td>\n",
       "    </tr>\n",
       "    <tr>\n",
       "      <th>...</th>\n",
       "      <td>...</td>\n",
       "      <td>...</td>\n",
       "    </tr>\n",
       "    <tr>\n",
       "      <th>90</th>\n",
       "      <td>هافي                                          ...</td>\n",
       "      <td>127500.0</td>\n",
       "    </tr>\n",
       "    <tr>\n",
       "      <th>91</th>\n",
       "      <td>هامر                                          ...</td>\n",
       "      <td>1200000.0</td>\n",
       "    </tr>\n",
       "    <tr>\n",
       "      <th>92</th>\n",
       "      <td>هايما                                         ...</td>\n",
       "      <td>453182.0</td>\n",
       "    </tr>\n",
       "    <tr>\n",
       "      <th>93</th>\n",
       "      <td>هوندا                                         ...</td>\n",
       "      <td>815278.0</td>\n",
       "    </tr>\n",
       "    <tr>\n",
       "      <th>94</th>\n",
       "      <td>هيونداي                                       ...</td>\n",
       "      <td>743837.0</td>\n",
       "    </tr>\n",
       "  </tbody>\n",
       "</table>\n",
       "<p>95 rows × 2 columns</p>\n",
       "</div>"
      ],
      "text/plain": [
       "                                                Brand      Price\n",
       "0   اسبيرانزا                                     ...   273500.0\n",
       "1   اكسييد                                        ...  1361667.0\n",
       "2   الفاروميو                                     ...  1208366.0\n",
       "3   ام جى                                         ...   916383.0\n",
       "4   امجيراند                                      ...   236667.0\n",
       "..                                                ...        ...\n",
       "90  هافي                                          ...   127500.0\n",
       "91  هامر                                          ...  1200000.0\n",
       "92  هايما                                         ...   453182.0\n",
       "93  هوندا                                         ...   815278.0\n",
       "94  هيونداي                                       ...   743837.0\n",
       "\n",
       "[95 rows x 2 columns]"
      ]
     },
     "execution_count": 20,
     "metadata": {},
     "output_type": "execute_result"
    }
   ],
   "source": [
    "Group_by_Brand_Price = df_4.groupby('Brand')['Price'].mean().round().reset_index()\n",
    "Group_by_Brand_Price"
   ]
  },
  {
   "cell_type": "code",
   "execution_count": 21,
   "id": "42f6be24",
   "metadata": {},
   "outputs": [
    {
     "data": {
      "text/plain": [
       "(487, 11)"
      ]
     },
     "execution_count": 21,
     "metadata": {},
     "output_type": "execute_result"
    }
   ],
   "source": [
    "Price_than_10000_index = df_3[df_3['Price']<100000].index\n",
    "df_3[df_3['Price']<100000].shape"
   ]
  },
  {
   "cell_type": "code",
   "execution_count": 22,
   "id": "7d0b1769",
   "metadata": {},
   "outputs": [],
   "source": [
    "for index_1 in Group_by_Brand_Price.index:\n",
    "    for index_2 in Price_than_10000_index:\n",
    "        if (Group_by_Brand_Price.loc[index_1, 'Brand'] == df_4.loc[index_2, 'Brand']):\n",
    "            df_4.loc[index_2, 'Price'] = Group_by_Brand_Price.loc[index_1, 'Price']"
   ]
  },
  {
   "cell_type": "code",
   "execution_count": 23,
   "id": "55b8de68",
   "metadata": {},
   "outputs": [],
   "source": [
    "df_4 = df_4.drop('Options',axis=1)"
   ]
  },
  {
   "cell_type": "code",
   "execution_count": 24,
   "id": "2f06dce0",
   "metadata": {},
   "outputs": [
    {
     "data": {
      "text/html": [
       "<div>\n",
       "<style scoped>\n",
       "    .dataframe tbody tr th:only-of-type {\n",
       "        vertical-align: middle;\n",
       "    }\n",
       "\n",
       "    .dataframe tbody tr th {\n",
       "        vertical-align: top;\n",
       "    }\n",
       "\n",
       "    .dataframe thead th {\n",
       "        text-align: right;\n",
       "    }\n",
       "</style>\n",
       "<table border=\"1\" class=\"dataframe\">\n",
       "  <thead>\n",
       "    <tr style=\"text-align: right;\">\n",
       "      <th></th>\n",
       "      <th>Brand</th>\n",
       "      <th>Model</th>\n",
       "      <th>Year</th>\n",
       "      <th>Milage</th>\n",
       "      <th>Transmission</th>\n",
       "      <th>Location</th>\n",
       "      <th>Color</th>\n",
       "      <th>Fuel</th>\n",
       "      <th>Price</th>\n",
       "      <th>Post Date</th>\n",
       "    </tr>\n",
       "  </thead>\n",
       "  <tbody>\n",
       "    <tr>\n",
       "      <th>4219</th>\n",
       "      <td>هيونداي                                       ...</td>\n",
       "      <td>فيرنا                                         ...</td>\n",
       "      <td>2026</td>\n",
       "      <td>165000</td>\n",
       "      <td>مانيوال</td>\n",
       "      <td>الإسكندرية</td>\n",
       "      <td>أسود</td>\n",
       "      <td>بنزين</td>\n",
       "      <td>280000</td>\n",
       "      <td>2025-04-06</td>\n",
       "    </tr>\n",
       "    <tr>\n",
       "      <th>4857</th>\n",
       "      <td>فورد                                          ...</td>\n",
       "      <td>امريكانى                                      ...</td>\n",
       "      <td>0</td>\n",
       "      <td>80000</td>\n",
       "      <td>مانيوال</td>\n",
       "      <td>مصر الجديدة</td>\n",
       "      <td>احمر</td>\n",
       "      <td>بنزين</td>\n",
       "      <td>490000</td>\n",
       "      <td>2025-03-23</td>\n",
       "    </tr>\n",
       "    <tr>\n",
       "      <th>18767</th>\n",
       "      <td>مرسيدس                                        ...</td>\n",
       "      <td>E 200</td>\n",
       "      <td>0</td>\n",
       "      <td>25000</td>\n",
       "      <td>مانيوال</td>\n",
       "      <td>المنصورة</td>\n",
       "      <td>أبيض</td>\n",
       "      <td>بنزين</td>\n",
       "      <td>2343347</td>\n",
       "      <td>2025-03-25</td>\n",
       "    </tr>\n",
       "  </tbody>\n",
       "</table>\n",
       "</div>"
      ],
      "text/plain": [
       "                                                   Brand  \\\n",
       "4219   هيونداي                                       ...   \n",
       "4857   فورد                                          ...   \n",
       "18767  مرسيدس                                        ...   \n",
       "\n",
       "                                                   Model  Year  Milage  \\\n",
       "4219   فيرنا                                         ...  2026  165000   \n",
       "4857   امريكانى                                      ...     0   80000   \n",
       "18767                                              E 200     0   25000   \n",
       "\n",
       "      Transmission     Location Color   Fuel    Price   Post Date  \n",
       "4219       مانيوال   الإسكندرية  أسود  بنزين   280000  2025-04-06  \n",
       "4857       مانيوال  مصر الجديدة  احمر  بنزين   490000  2025-03-23  \n",
       "18767      مانيوال     المنصورة  أبيض  بنزين  2343347  2025-03-25  "
      ]
     },
     "execution_count": 24,
     "metadata": {},
     "output_type": "execute_result"
    }
   ],
   "source": [
    "df_4[(df_4['Year']==2026)|(df_4['Year']==0)]"
   ]
  },
  {
   "cell_type": "code",
   "execution_count": 25,
   "id": "25b4554d",
   "metadata": {},
   "outputs": [],
   "source": [
    "df_4 = df_4.drop(df_4[(df_4['Year']==2026)|(df_4['Year']==0)].index)"
   ]
  },
  {
   "cell_type": "code",
   "execution_count": 26,
   "id": "d9156313",
   "metadata": {},
   "outputs": [
    {
     "data": {
      "text/plain": [
       "np.int64(146)"
      ]
     },
     "execution_count": 26,
     "metadata": {},
     "output_type": "execute_result"
    }
   ],
   "source": [
    "df_4.duplicated().sum()"
   ]
  },
  {
   "cell_type": "code",
   "execution_count": 27,
   "id": "7ce0b20f",
   "metadata": {},
   "outputs": [],
   "source": [
    "#the final data set is df_4 and df_5 after removing the outliers"
   ]
  },
  {
   "cell_type": "code",
   "execution_count": 28,
   "id": "097a6eb4",
   "metadata": {},
   "outputs": [],
   "source": [
    "Visualize = Visualize(df_4)"
   ]
  },
  {
   "cell_type": "code",
   "execution_count": 30,
   "id": "76e6d0fc",
   "metadata": {},
   "outputs": [
    {
     "data": {
      "image/png": "[encoded data removed]",
      "text/plain": [
       "<Figure size 1500x500 with 2 Axes>"
      ]
     },
     "metadata": {},
     "output_type": "display_data"
    }
   ],
   "source": [
    "Visualize.comparing_Year_with_Milage_price()"
   ]
  },
  {
   "cell_type": "code",
   "execution_count": 31,
   "id": "58c800c4",
   "metadata": {},
   "outputs": [
    {
     "data": {
      "image/png": "[encoded data removed]",
      "text/plain": [
       "<Figure size 1200x800 with 2 Axes>"
      ]
     },
     "metadata": {},
     "output_type": "display_data"
    }
   ],
   "source": [
    "Visualize.heat_map(['Year','Milage','Price'])"
   ]
  },
  {
   "cell_type": "code",
   "execution_count": null,
   "id": "f41906ab",
   "metadata": {},
   "outputs": [
    {
     "data": {
      "image/png": "[encoded data removed]",
      "text/plain": [
       "<Figure size 1500x500 with 3 Axes>"
      ]
     },
     "metadata": {},
     "output_type": "display_data"
    }
   ],
   "source": [
    "Visualize.Distribution_of_Price_Mileage(df_4)"
   ]
  },
  {
   "cell_type": "code",
   "execution_count": null,
   "id": "28a02a1a",
   "metadata": {},
   "outputs": [
    {
     "data": {
      "text/plain": [
       "Brand           1562\n",
       "Model           1562\n",
       "Year            1562\n",
       "Milage          1562\n",
       "Transmission    1562\n",
       "Location        1562\n",
       "Color           1562\n",
       "Fuel            1562\n",
       "Price           1562\n",
       "Post Date       1562\n",
       "dtype: int64"
      ]
     },
     "execution_count": 52,
     "metadata": {},
     "output_type": "execute_result"
    }
   ],
   "source": [
    "q1=df_4['Price'].quantile(0.25)\n",
    "q3=df_4['Price'].quantile(0.75)\n",
    "IQR=q3-q1\n",
    "df_4[((df_4['Price']<=(q1-1.5*IQR))|(df_4['Price']>=(q3+1.5*IQR)))].count()\n",
    "df_5 = df_4[~((df_4['Price'] <= (q1 - 1.5 * IQR)) | (df_4['Price'] >= (q3 + 1.5 * IQR)))]"
   ]
  },
  {
   "cell_type": "code",
   "execution_count": null,
   "id": "284a6d52",
   "metadata": {},
   "outputs": [],
   "source": [
    "Visualize.Distribution_of_Price_Mileage(df_5)"
   ]
  },
  {
   "cell_type": "code",
   "execution_count": 81,
   "id": "013c97f6",
   "metadata": {},
   "outputs": [
    {
     "data": {
      "text/plain": [
       "<Axes: title={'center': 'Color Distribution'}, ylabel='Transmission'>"
      ]
     },
     "execution_count": 81,
     "metadata": {},
     "output_type": "execute_result"
    },
    {
     "data": {
      "image/png": "[encoded data removed]",
      "text/plain": [
       "<Figure size 1000x1500 with 1 Axes>"
      ]
     },
     "metadata": {},
     "output_type": "display_data"
    }
   ],
   "source": [
    "df_4['Transmission'].groupby(df_4['Transmission']).count().plot(kind = 'pie',autopct='%1.1f%%',figsize=(10,15),title='Color Distribution')    "
   ]
  },
  {
   "cell_type": "code",
   "execution_count": null,
   "id": "9663a11a",
   "metadata": {},
   "outputs": [],
   "source": [
    "sns.set_style(\"whitegrid\") # Set style for chart\n",
    "plt.figure(figsize=(6,6)) # Set figure size\n",
    "plt.pie(df_5['Transmission'], labels=df_5['Transmission']) # Create pie chart\n",
    "plt.show() # Show chart"
   ]
  },
  {
   "cell_type": "code",
   "execution_count": 82,
   "id": "df3b56f9",
   "metadata": {},
   "outputs": [
    {
     "data": {
      "text/plain": [
       "Transmission\n",
       "DSG              1\n",
       "أتوماتيك‎    15360\n",
       "مانيوال       5630\n",
       "Name: Transmission, dtype: int64"
      ]
     },
     "execution_count": 82,
     "metadata": {},
     "output_type": "execute_result"
    }
   ],
   "source": [
    "df_5['Transmission'].groupby(df_5['Transmission']).count()"
   ]
  },
  {
   "cell_type": "code",
   "execution_count": null,
   "id": "3f4791d0",
   "metadata": {},
   "outputs": [],
   "source": []
  }
 ],
 "metadata": {
  "kernelspec": {
   "display_name": "Python 3",
   "language": "python",
   "name": "python3"
  },
  "language_info": {
   "codemirror_mode": {
    "name": "ipython",
    "version": 3
   },
   "file_extension": ".py",
   "mimetype": "text/x-python",
   "name": "python",
   "nbconvert_exporter": "python",
   "pygments_lexer": "ipython3",
   "version": "3.12.2"
  }
 },
 "nbformat": 4,
 "nbformat_minor": 5
}
